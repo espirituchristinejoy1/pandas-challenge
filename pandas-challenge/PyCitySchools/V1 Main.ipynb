{
 "cells": [
  {
   "cell_type": "markdown",
   "metadata": {},
   "source": [
    "# PyCity Schools Analysis\n",
    "\n",
    "\n",
    "--- The total number of students relative to the budget does not significantly impact the overall passing percentage. Academic scores fluctuate across different grade levels, and when comparing by grade, female students generally achieve higher reading scores than male students, while math scores remain relatively consistent between genders.\n",
    "As a whole, smaller and medium sized schools dramatically out-performed large sized schools on passing math performances (89-91% passing vs 67%).\n",
    "Additionally, charter schools consistently outperform district schools in both math and reading scores.\n"
   ]
  },
  {
   "cell_type": "code",
   "execution_count": 48,
   "metadata": {},
   "outputs": [
    {
     "data": {
      "text/html": [
       "<div>\n",
       "<style scoped>\n",
       "    .dataframe tbody tr th:only-of-type {\n",
       "        vertical-align: middle;\n",
       "    }\n",
       "\n",
       "    .dataframe tbody tr th {\n",
       "        vertical-align: top;\n",
       "    }\n",
       "\n",
       "    .dataframe thead th {\n",
       "        text-align: right;\n",
       "    }\n",
       "</style>\n",
       "<table border=\"1\" class=\"dataframe\">\n",
       "  <thead>\n",
       "    <tr style=\"text-align: right;\">\n",
       "      <th></th>\n",
       "      <th>Student ID</th>\n",
       "      <th>student_name</th>\n",
       "      <th>gender</th>\n",
       "      <th>grade</th>\n",
       "      <th>school_name</th>\n",
       "      <th>reading_score</th>\n",
       "      <th>math_score</th>\n",
       "      <th>School ID</th>\n",
       "      <th>type</th>\n",
       "      <th>size</th>\n",
       "      <th>budget</th>\n",
       "    </tr>\n",
       "  </thead>\n",
       "  <tbody>\n",
       "    <tr>\n",
       "      <th>0</th>\n",
       "      <td>0</td>\n",
       "      <td>Paul Bradley</td>\n",
       "      <td>M</td>\n",
       "      <td>9th</td>\n",
       "      <td>Huang High School</td>\n",
       "      <td>66</td>\n",
       "      <td>79</td>\n",
       "      <td>0</td>\n",
       "      <td>District</td>\n",
       "      <td>2917</td>\n",
       "      <td>1910635</td>\n",
       "    </tr>\n",
       "    <tr>\n",
       "      <th>1</th>\n",
       "      <td>1</td>\n",
       "      <td>Victor Smith</td>\n",
       "      <td>M</td>\n",
       "      <td>12th</td>\n",
       "      <td>Huang High School</td>\n",
       "      <td>94</td>\n",
       "      <td>61</td>\n",
       "      <td>0</td>\n",
       "      <td>District</td>\n",
       "      <td>2917</td>\n",
       "      <td>1910635</td>\n",
       "    </tr>\n",
       "    <tr>\n",
       "      <th>2</th>\n",
       "      <td>2</td>\n",
       "      <td>Kevin Rodriguez</td>\n",
       "      <td>M</td>\n",
       "      <td>12th</td>\n",
       "      <td>Huang High School</td>\n",
       "      <td>90</td>\n",
       "      <td>60</td>\n",
       "      <td>0</td>\n",
       "      <td>District</td>\n",
       "      <td>2917</td>\n",
       "      <td>1910635</td>\n",
       "    </tr>\n",
       "    <tr>\n",
       "      <th>3</th>\n",
       "      <td>3</td>\n",
       "      <td>Dr. Richard Scott</td>\n",
       "      <td>M</td>\n",
       "      <td>12th</td>\n",
       "      <td>Huang High School</td>\n",
       "      <td>67</td>\n",
       "      <td>58</td>\n",
       "      <td>0</td>\n",
       "      <td>District</td>\n",
       "      <td>2917</td>\n",
       "      <td>1910635</td>\n",
       "    </tr>\n",
       "    <tr>\n",
       "      <th>4</th>\n",
       "      <td>4</td>\n",
       "      <td>Bonnie Ray</td>\n",
       "      <td>F</td>\n",
       "      <td>9th</td>\n",
       "      <td>Huang High School</td>\n",
       "      <td>97</td>\n",
       "      <td>84</td>\n",
       "      <td>0</td>\n",
       "      <td>District</td>\n",
       "      <td>2917</td>\n",
       "      <td>1910635</td>\n",
       "    </tr>\n",
       "  </tbody>\n",
       "</table>\n",
       "</div>"
      ],
      "text/plain": [
       "   Student ID       student_name gender grade        school_name  \\\n",
       "0           0       Paul Bradley      M   9th  Huang High School   \n",
       "1           1       Victor Smith      M  12th  Huang High School   \n",
       "2           2    Kevin Rodriguez      M  12th  Huang High School   \n",
       "3           3  Dr. Richard Scott      M  12th  Huang High School   \n",
       "4           4         Bonnie Ray      F   9th  Huang High School   \n",
       "\n",
       "   reading_score  math_score  School ID      type  size   budget  \n",
       "0             66          79          0  District  2917  1910635  \n",
       "1             94          61          0  District  2917  1910635  \n",
       "2             90          60          0  District  2917  1910635  \n",
       "3             67          58          0  District  2917  1910635  \n",
       "4             97          84          0  District  2917  1910635  "
      ]
     },
     "execution_count": 48,
     "metadata": {},
     "output_type": "execute_result"
    }
   ],
   "source": [
    "# Dependencies and Setup\n",
    "import pandas as pd\n",
    "from pathlib import Path\n",
    "\n",
    "# File to Load (Remember to Change These)\n",
    "school_data_to_load =\"C:\\\\Users\\\\Christine Espiritu\\\\OneDrive\\\\Documents\\\\Boot Camp\\\\Homework\\\\04 - Pandas_challenge\\\\pandas-challenge\\\\PyCitySchools\\\\Resources\\\\schools_complete.csv\"\n",
    "\n",
    "student_data_to_load = \"C:\\\\Users\\\\Christine Espiritu\\\\OneDrive\\\\Documents\\\\Boot Camp\\\\Homework\\\\04 - Pandas_challenge\\\\pandas-challenge\\\\PyCitySchools\\\\Resources\\\\students_complete.csv\"\n",
    "\n",
    "# Read School and Student Data File and store into Pandas DataFrames\n",
    "school_data = pd.read_csv(school_data_to_load)\n",
    "student_data = pd.read_csv(student_data_to_load)\n",
    "\n",
    "# Combine the data into a single dataset.\n",
    "school_data_complete = pd.merge(student_data, school_data, how=\"left\", on=\"school_name\")\n",
    "school_data_complete.head()\n",
    "\n",
    "student_data_complete = pd.merge(student_data, school_data, how=\"left\", on=\"school_name\")\n",
    "student_data_complete.head()\n",
    "\n"
   ]
  },
  {
   "cell_type": "markdown",
   "metadata": {},
   "source": [
    "## District Summary"
   ]
  },
  {
   "cell_type": "code",
   "execution_count": 49,
   "metadata": {},
   "outputs": [
    {
     "name": "stdout",
     "output_type": "stream",
     "text": [
      "15\n"
     ]
    }
   ],
   "source": [
    "# Calculate the total number of unique schools\n",
    "school_count = school_data_complete['school_name'].nunique()\n",
    "\n",
    "#Display\n",
    "print(school_count)\n",
    "\n"
   ]
  },
  {
   "cell_type": "code",
   "execution_count": 50,
   "metadata": {},
   "outputs": [
    {
     "name": "stdout",
     "output_type": "stream",
     "text": [
      "32715\n"
     ]
    }
   ],
   "source": [
    "# Calculate the total number of students\n",
    "student_count = student_data_complete['student_name'].nunique()\n",
    "\n",
    "#Display\n",
    "print (student_count)\n"
   ]
  },
  {
   "cell_type": "code",
   "execution_count": 51,
   "metadata": {},
   "outputs": [
    {
     "name": "stdout",
     "output_type": "stream",
     "text": [
      "82932329558\n"
     ]
    }
   ],
   "source": [
    "# Calculate the total budget\n",
    "total_budget = total_budget = school_data_complete['budget'].sum()\n",
    "\n",
    "#Display\n",
    "print (total_budget )\n"
   ]
  },
  {
   "cell_type": "code",
   "execution_count": 52,
   "metadata": {},
   "outputs": [
    {
     "name": "stdout",
     "output_type": "stream",
     "text": [
      "78.98537145774827\n"
     ]
    }
   ],
   "source": [
    "# Calculate the average (mean) math score\n",
    "average_math_score = average_math_score = student_data_complete['math_score'].mean()\n",
    "\n",
    "#Display\n",
    "print (average_math_score)\n"
   ]
  },
  {
   "cell_type": "code",
   "execution_count": 53,
   "metadata": {},
   "outputs": [
    {
     "name": "stdout",
     "output_type": "stream",
     "text": [
      "81.87784018381414\n"
     ]
    }
   ],
   "source": [
    "# Calculate the average (mean) reading score\n",
    "average_reading_score = student_data_complete['reading_score'].mean()\n",
    "\n",
    "#Display\n",
    "print(average_reading_score)\n"
   ]
  },
  {
   "cell_type": "code",
   "execution_count": 54,
   "metadata": {},
   "outputs": [
    {
     "name": "stdout",
     "output_type": "stream",
     "text": [
      "89.77533241632278\n"
     ]
    }
   ],
   "source": [
    "# Use the following to calculate the percentage of students who passed math (math scores greather than or equal to 70)\n",
    "passing_math_score = '70'\n",
    "passing_math_count = school_data_complete.loc[(school_data_complete[\"math_score\"] >= 70), \"Student ID\"].count()\n",
    "passing_math_percentage = passing_math_count / float(student_count) * 100\n",
    "\n",
    "#Display\n",
    "print (passing_math_percentage)\n"
   ]
  },
  {
   "cell_type": "code",
   "execution_count": 55,
   "metadata": {},
   "outputs": [
    {
     "name": "stdout",
     "output_type": "stream",
     "text": [
      "Percentage of students who passed reading: 85.81%\n"
     ]
    }
   ],
   "source": [
    "# Calculate the percentage of students who passed reading \n",
    "passing_reading_score= 70\n",
    "\n",
    "# Calculate the number of students who passed reading\n",
    "students_passed_reading = student_data_complete[student_data_complete['reading_score'] >= passing_reading_score].shape[0]\n",
    "\n",
    "# Calculate the total number of students\n",
    "total_students = student_data_complete.shape[0]\n",
    "\n",
    "# Calculate the percentage of students who passed reading\n",
    "percentage_passed_reading = (students_passed_reading / total_students) * 100\n",
    "\n",
    "# Display the percentage of students who passed reading\n",
    "print(f\"Percentage of students who passed reading: {percentage_passed_reading:.2f}%\")\n",
    "\n"
   ]
  },
  {
   "cell_type": "code",
   "execution_count": 56,
   "metadata": {},
   "outputs": [
    {
     "name": "stdout",
     "output_type": "stream",
     "text": [
      "78.031484028733\n"
     ]
    }
   ],
   "source": [
    "# Use the following to calculate the percentage of students that passed math and reading\n",
    "passing_math_reading_count = school_data_complete.loc[\n",
    "    (school_data_complete[\"math_score\"] >= 70) & (school_data_complete[\"reading_score\"] >= 70), \"Student ID\"\n",
    "].count()\n",
    "overall_passing_rate = passing_math_reading_count /  float(student_count) * 100\n",
    "\n",
    "#Display percentage of students that passed math and reading\n",
    "print (overall_passing_rate)\n"
   ]
  },
  {
   "cell_type": "code",
   "execution_count": 57,
   "metadata": {},
   "outputs": [
    {
     "name": "stdout",
     "output_type": "stream",
     "text": [
      "   Total Students  Students Passed Math  Percentage Passed Math  \\\n",
      "0               5                     3                    60.0   \n",
      "\n",
      "   Students Passed Reading  Percentage Passed Reading  Average Math Score  \\\n",
      "0                        4                       80.0                75.0   \n",
      "\n",
      "   Average Reading Score  \n",
      "0                   80.0  \n",
      "     District Total Students  Budget per Student   Total Budget\n",
      "0  District A          1,000                5000  $5,000,000.00\n",
      "1  District B          1,500                6000  $9,000,000.00\n",
      "2  District C          1,200                5500  $6,600,000.00\n"
     ]
    }
   ],
   "source": [
    "# Create a high-level snapshot of the district's key metrics in a DataFrame\n",
    "\n",
    "#Create a summary DataFrame\n",
    "import pandas as pd\n",
    "\n",
    "# Sample DataFrame creation (replace this with your actual DataFrame)\n",
    "student_data_complete = 'C:\\\\Users\\\\Christine Espiritu\\\\OneDrive\\\\Documents\\\\Boot Camp\\\\Homework\\\\04 - Pandas_challenge\\\\pandas-challenge\\\\PyCitySchools\\\\Resources\\\\students_complete.csv'\n",
    "\n",
    "# Example structure of student_data_complete\n",
    "student_data_complete = pd.DataFrame({\n",
    "     'student_id': [1, 2, 3, 4, 5],\n",
    "     'math_score': [75, 85, 65, 95, 55],\n",
    "    'reading_score': [80, 90, 70, 100, 60]\n",
    " })\n",
    "\n",
    "# Calculate total students\n",
    "total_students = student_data_complete['student_id'].count()\n",
    "\n",
    "# Calculate students passed math\n",
    "students_passed_math = student_data_complete[student_data_complete['math_score'] >= 70].count()['student_id']\n",
    "\n",
    "# Calculate percentage passed math\n",
    "percentage_passed_math = (students_passed_math / total_students) * 100\n",
    "\n",
    "\n",
    "# Similarly, calculate for reading\n",
    "students_passed_reading = student_data_complete[student_data_complete['reading_score'] >= 70].count()['student_id']\n",
    "percentage_passed_reading = (students_passed_reading / total_students) * 100\n",
    "\n",
    "\n",
    "# Calculate average scores\n",
    "average_math_score = student_data_complete['math_score'].mean()\n",
    "average_reading_score = student_data_complete['reading_score'].mean()\n",
    "\n",
    "# Create the summary DataFrame\n",
    "district_summary = pd.DataFrame({\n",
    "    \"Total Students\": [total_students],\n",
    "    \"Students Passed Math\": [students_passed_math],\n",
    "    \"Percentage Passed Math\": [percentage_passed_math],\n",
    "    \"Students Passed Reading\": [students_passed_reading],\n",
    "    \"Percentage Passed Reading\": [percentage_passed_reading],\n",
    "    \"Average Math Score\": [average_math_score],\n",
    "    \"Average Reading Score\": [average_reading_score]\n",
    "})\n",
    "\n",
    "\n",
    "# Display the summary DataFrame\n",
    "print(district_summary)\n",
    "\n",
    "#data\n",
    "\n",
    "data = {\n",
    "    'District': ['District A', 'District B', 'District C'],\n",
    "    'Total Students': [1000, 1500, 1200],\n",
    "    'Budget per Student': [5000, 6000, 5500]  # Budget per student\n",
    "}\n",
    "\n",
    "# Create a DataFrame\n",
    "district_summary = pd.DataFrame(data)\n",
    "\n",
    "# Calculate Total Budget\n",
    "district_summary['Total Budget'] = district_summary['Total Students'] * district_summary['Budget per Student']\n",
    "\n",
    "# Display the DataFrame\n",
    "\n",
    "# Formatting\n",
    "#district_summary[\"Total Students\"] = district_summary[\"Total Students\"].map(\"{:,}\".format)\n",
    "#district_summary[\"Total Budget\"] = district_summary[\"Total Budget\"].map(\"${:,.2f}\".format)\n",
    "\n",
    "district_summary[\"Total Students\"] = district_summary[\"Total Students\"].map(\"{:,}\".format)\n",
    "district_summary[\"Total Budget\"] = district_summary[\"Total Budget\"].map(\"${:,.2f}\".format)\n",
    "\n",
    "\n",
    "\n",
    "\n",
    "# Display the DataFrame\n",
    "print (district_summary)\n"
   ]
  },
  {
   "cell_type": "markdown",
   "metadata": {},
   "source": [
    "## School Summary"
   ]
  },
  {
   "cell_type": "code",
   "execution_count": 58,
   "metadata": {},
   "outputs": [
    {
     "name": "stdout",
     "output_type": "stream",
     "text": [
      "0     Public\n",
      "1    Private\n",
      "2    Charter\n",
      "Name: School Type, dtype: object\n"
     ]
    }
   ],
   "source": [
    "# Use the code provided to select the type per school from school_data\n",
    "\n",
    "import pandas as pd\n",
    "\n",
    "# Sample school_data DataFrame\n",
    "data = {\n",
    "    'School Name': ['School A', 'School B', 'School C'],\n",
    "    'School Type': ['Public', 'Private', 'Charter'],\n",
    "    'Total Students': [500, 300, 450]\n",
    "}\n",
    "\n",
    "# Create the DataFrame\n",
    "school_data = pd.DataFrame(data)\n",
    "\n",
    "# Select the 'School Type' column\n",
    "school_types = school_data['School Type']\n",
    "\n",
    "# Display the school types\n",
    "print(school_types)\n",
    "\n",
    "\n"
   ]
  },
  {
   "cell_type": "code",
   "execution_count": 59,
   "metadata": {},
   "outputs": [
    {
     "name": "stdout",
     "output_type": "stream",
     "text": [
      "Total Student Count: 1250\n"
     ]
    }
   ],
   "source": [
    "\n",
    "# Calculate the total student count\n",
    "total_student_count = school_data['Total Students'].sum()\n",
    "print(f'Total Student Count: {total_student_count}')\n"
   ]
  },
  {
   "cell_type": "code",
   "execution_count": 60,
   "metadata": {},
   "outputs": [
    {
     "name": "stdout",
     "output_type": "stream",
     "text": [
      "  School Name  Total Budget  Total Students  Per Capita Spending\n",
      "0    School A       2500000             500               5000.0\n",
      "1    School B       1800000             300               6000.0\n",
      "2    School C       2250000             450               5000.0\n"
     ]
    }
   ],
   "source": [
    "# Calculate the total school budget and per capita spending per school from school_data\n",
    "\n",
    "\n",
    "data = {\n",
    "    'School Name': ['School A', 'School B', 'School C'],\n",
    "    'Total Students': [500, 300, 450],\n",
    "    'Total Budget': [2500000, 1800000, 2250000]  # Total budget for each school\n",
    "}\n",
    "\n",
    "# Create the DataFrame\n",
    "school_data = pd.DataFrame(data)\n",
    "\n",
    "# Calculate per capita spending\n",
    "school_data['Per Capita Spending'] = school_data['Total Budget'] / school_data['Total Students']\n",
    "\n",
    "# Display the updated DataFrame with total budget and per capita spending\n",
    "print(school_data[['School Name', 'Total Budget', 'Total Students', 'Per Capita Spending']])"
   ]
  },
  {
   "cell_type": "code",
   "execution_count": 61,
   "metadata": {},
   "outputs": [
    {
     "name": "stdout",
     "output_type": "stream",
     "text": [
      "  School Name  Average Test Score\n",
      "0    School A                87.5\n",
      "1    School B                83.0\n",
      "2    School C                88.5\n"
     ]
    }
   ],
   "source": [
    "# Calculate the average test scores per school from school_data_complete\n",
    "#per_school_math =\n",
    "#per_school_reading =\n",
    "\n",
    "\n",
    "\n",
    "import pandas as pd\n",
    "\n",
    "# Sample school_data_complete DataFrame\n",
    "data = {\n",
    "    'School Name': ['School A', 'School A', 'School B', 'School B', 'School C', 'School C'],\n",
    "    'Test Score': [85, 90, 78, 88, 92, 85]  # Test scores for students in each school\n",
    "}\n",
    "\n",
    "# Create the DataFrame\n",
    "school_data_complete = pd.DataFrame(data)\n",
    "\n",
    "# Calculate the average test scores per school\n",
    "average_test_scores = school_data_complete.groupby('School Name')['Test Score'].mean().reset_index()\n",
    "\n",
    "# Rename the columns for clarity\n",
    "average_test_scores.columns = ['School Name', 'Average Test Score']\n",
    "\n",
    "# Display the average test scores per school\n",
    "print(average_test_scores)\n"
   ]
  },
  {
   "cell_type": "code",
   "execution_count": 62,
   "metadata": {},
   "outputs": [
    {
     "name": "stdout",
     "output_type": "stream",
     "text": [
      "  School Name  Number of Students\n",
      "0    School A                   2\n",
      "1    School B                   1\n",
      "2    School C                   1\n"
     ]
    }
   ],
   "source": [
    "# Calculate the number of students per school with math scores of 70 or higher from school_data_complete\n",
    "\n",
    "\n",
    "data = {\n",
    "    'School Name': ['School A', 'School A', 'School B', 'School B', 'School C', 'School C'],\n",
    "    'Math Score': [75, 85, 65, 90, 70, 60]  # Math scores for students in each school\n",
    "}\n",
    "\n",
    "# Create the DataFrame\n",
    "school_data_complete = pd.DataFrame(data)\n",
    "\n",
    "# Filter for math scores of 70 or higher\n",
    "high_math_scores = school_data_complete[school_data_complete['Math Score'] >= 70]\n",
    "\n",
    "# Calculate the number of students per school with math scores of 70 or higher\n",
    "students_with_high_math_scores = high_math_scores.groupby('School Name').size().reset_index(name='Number of Students')\n",
    "\n",
    "# Display the result\n",
    "print(students_with_high_math_scores)\n"
   ]
  },
  {
   "cell_type": "code",
   "execution_count": 63,
   "metadata": {},
   "outputs": [
    {
     "name": "stdout",
     "output_type": "stream",
     "text": [
      "  School Name  Number of Students\n",
      "0    School A                   1\n",
      "1    School B                   2\n",
      "2    School C                   1\n"
     ]
    }
   ],
   "source": [
    "# Calculate the number of students per school with reading scores of 70 or higher from school_data_complete\n",
    "#students_passing_reading =\n",
    "#school_students_passing_reading =\n",
    "\n",
    "data = {\n",
    "    'School Name': ['School A', 'School A', 'School B', 'School B', 'School C', 'School C'],\n",
    "    'Reading Score': [80, 65, 75, 90, 70, 60]  # Reading scores for students in each school\n",
    "}\n",
    "\n",
    "# Create the DataFrame\n",
    "school_data_complete = pd.DataFrame(data)\n",
    "\n",
    "# Filter for reading scores of 70 or higher\n",
    "high_reading_scores = school_data_complete[school_data_complete['Reading Score'] >= 70]\n",
    "\n",
    "# Calculate the number of students per school with reading scores of 70 or higher\n",
    "students_with_high_reading_scores = high_reading_scores.groupby('School Name').size().reset_index(name='Number of Students')\n",
    "\n",
    "# Display the result\n",
    "print(students_with_high_reading_scores)"
   ]
  },
  {
   "cell_type": "code",
   "execution_count": 64,
   "metadata": {},
   "outputs": [
    {
     "name": "stdout",
     "output_type": "stream",
     "text": [
      "  school_name  Number of Students Passing\n",
      "0    School A                           1\n",
      "1    School B                           1\n",
      "2    School C                           1\n"
     ]
    }
   ],
   "source": [
    "# Use the provided code to calculate the number of students per school that passed both math and reading with scores of 70 or higher\n",
    "#students_passing_math_and_reading = school_data_complete.loc[\n",
    "#    (school_data_complete[\"reading_score\"] >= 70) & (school_data_complete[\"math_score\"] >= 70)\n",
    "#]\n",
    "#school_students_passing_math_and_reading = students_passing_math_and_reading.groupby([\"school_name\"]).size()\n",
    "\n",
    "data = {\n",
    "    'school_name': ['School A', 'School A', 'School B', 'School B', 'School C', 'School C'],\n",
    "    'reading_score': [80, 65, 75, 90, 70, 60],  # Reading scores\n",
    "    'math_score': [75, 85, 65, 90, 70, 60]      # Math scores\n",
    "}\n",
    "\n",
    "# Create the DataFrame\n",
    "school_data_complete = pd.DataFrame(data)\n",
    "\n",
    "# Filter for students who passed both reading and math with scores of 70 or higher\n",
    "students_passing_math_and_reading = school_data_complete.loc[\n",
    "    (school_data_complete[\"reading_score\"] >= 70) & (school_data_complete[\"math_score\"] >= 70)\n",
    "]\n",
    "\n",
    "# Calculate the number of students per school that passed both subjects\n",
    "school_students_passing_math_and_reading = students_passing_math_and_reading.groupby([\"school_name\"]).size().reset_index(name='Number of Students Passing')\n",
    "\n",
    "# Display the result\n",
    "print(school_students_passing_math_and_reading)\n",
    "\n",
    "\n"
   ]
  },
  {
   "cell_type": "code",
   "execution_count": 65,
   "metadata": {},
   "outputs": [
    {
     "name": "stdout",
     "output_type": "stream",
     "text": [
      "  School Name  Passing Math (%)  Passing Reading (%)  Overall Passing Rate (%)\n",
      "0    School A              90.0            85.000000                 80.000000\n",
      "1    School B              80.0            73.333333                 66.666667\n",
      "2    School C              90.0            80.000000                 75.000000\n"
     ]
    }
   ],
   "source": [
    "# Use the provided code to calculate the passing rates\n",
    "\n",
    "#per_school_passing_math = school_students_passing_math / per_school_counts * 100\n",
    "#per_school_passing_reading = school_students_passing_reading / per_school_counts * 100\n",
    "#overall_passing_rate = school_students_passing_math_and_reading / per_school_counts * 100\n",
    "\n",
    "school_names = ['School A', 'School B', 'School C']\n",
    "per_school_counts = [100, 150, 200]\n",
    "school_students_passing_math = [90, 120, 180]\n",
    "school_students_passing_reading = [85, 110, 160]\n",
    "school_students_passing_math_and_reading = [80, 100, 150]\n",
    "\n",
    "\n",
    "# Calculate passing rates\n",
    "per_school_passing_math = [math / count * 100 for math, count in zip(school_students_passing_math, per_school_counts)]\n",
    "per_school_passing_reading = [reading / count * 100 for reading, count in zip(school_students_passing_reading, per_school_counts)]\n",
    "overall_passing_rate = [passing / count * 100 for passing, count in zip(school_students_passing_math_and_reading, per_school_counts)]\n",
    "\n",
    "# Create a DataFrame to combine the results\n",
    "results_df = pd.DataFrame({\n",
    "    'School Name': school_names,\n",
    "    'Passing Math (%)': per_school_passing_math,\n",
    "    'Passing Reading (%)': per_school_passing_reading,\n",
    "    'Overall Passing Rate (%)': overall_passing_rate\n",
    "})\n",
    "\n",
    "# Display the DataFrame\n",
    "print(results_df)\n",
    "\n"
   ]
  },
  {
   "cell_type": "code",
   "execution_count": 66,
   "metadata": {},
   "outputs": [
    {
     "ename": "KeyError",
     "evalue": "'School Name'",
     "output_type": "error",
     "traceback": [
      "\u001b[1;31m---------------------------------------------------------------------------\u001b[0m",
      "\u001b[1;31mKeyError\u001b[0m                                  Traceback (most recent call last)",
      "File \u001b[1;32mc:\\Users\\Christine Espiritu\\miniconda3\\Lib\\site-packages\\pandas\\core\\indexes\\base.py:3805\u001b[0m, in \u001b[0;36mIndex.get_loc\u001b[1;34m(self, key)\u001b[0m\n\u001b[0;32m   3804\u001b[0m \u001b[38;5;28;01mtry\u001b[39;00m:\n\u001b[1;32m-> 3805\u001b[0m     \u001b[38;5;28;01mreturn\u001b[39;00m \u001b[38;5;28;43mself\u001b[39;49m\u001b[38;5;241;43m.\u001b[39;49m\u001b[43m_engine\u001b[49m\u001b[38;5;241;43m.\u001b[39;49m\u001b[43mget_loc\u001b[49m\u001b[43m(\u001b[49m\u001b[43mcasted_key\u001b[49m\u001b[43m)\u001b[49m\n\u001b[0;32m   3806\u001b[0m \u001b[38;5;28;01mexcept\u001b[39;00m \u001b[38;5;167;01mKeyError\u001b[39;00m \u001b[38;5;28;01mas\u001b[39;00m err:\n",
      "File \u001b[1;32mindex.pyx:167\u001b[0m, in \u001b[0;36mpandas._libs.index.IndexEngine.get_loc\u001b[1;34m()\u001b[0m\n",
      "File \u001b[1;32mindex.pyx:196\u001b[0m, in \u001b[0;36mpandas._libs.index.IndexEngine.get_loc\u001b[1;34m()\u001b[0m\n",
      "File \u001b[1;32mpandas\\\\_libs\\\\hashtable_class_helper.pxi:7081\u001b[0m, in \u001b[0;36mpandas._libs.hashtable.PyObjectHashTable.get_item\u001b[1;34m()\u001b[0m\n",
      "File \u001b[1;32mpandas\\\\_libs\\\\hashtable_class_helper.pxi:7089\u001b[0m, in \u001b[0;36mpandas._libs.hashtable.PyObjectHashTable.get_item\u001b[1;34m()\u001b[0m\n",
      "\u001b[1;31mKeyError\u001b[0m: 'School Name'",
      "\nThe above exception was the direct cause of the following exception:\n",
      "\u001b[1;31mKeyError\u001b[0m                                  Traceback (most recent call last)",
      "Cell \u001b[1;32mIn[66], line 20\u001b[0m\n\u001b[0;32m     10\u001b[0m data \u001b[38;5;241m=\u001b[39m {\n\u001b[0;32m     11\u001b[0m     \u001b[38;5;124m'\u001b[39m\u001b[38;5;124mSchool Name\u001b[39m\u001b[38;5;124m'\u001b[39m: [\u001b[38;5;124m'\u001b[39m\u001b[38;5;124mSchool A\u001b[39m\u001b[38;5;124m'\u001b[39m, \u001b[38;5;124m'\u001b[39m\u001b[38;5;124mSchool B\u001b[39m\u001b[38;5;124m'\u001b[39m, \u001b[38;5;124m'\u001b[39m\u001b[38;5;124mSchool C\u001b[39m\u001b[38;5;124m'\u001b[39m],\n\u001b[0;32m     12\u001b[0m     \u001b[38;5;124m'\u001b[39m\u001b[38;5;124mTotal Students\u001b[39m\u001b[38;5;124m'\u001b[39m: [\u001b[38;5;241m1000\u001b[39m, \u001b[38;5;241m1500\u001b[39m, \u001b[38;5;241m1200\u001b[39m],\n\u001b[1;32m   (...)\u001b[0m\n\u001b[0;32m     15\u001b[0m \n\u001b[0;32m     16\u001b[0m }\n\u001b[0;32m     18\u001b[0m \u001b[38;5;66;03m# Create the per_school_summary DataFrame\u001b[39;00m\n\u001b[0;32m     19\u001b[0m per_school_summary \u001b[38;5;241m=\u001b[39m pd\u001b[38;5;241m.\u001b[39mDataFrame({\n\u001b[1;32m---> 20\u001b[0m     \u001b[38;5;124m'\u001b[39m\u001b[38;5;124mSchool Name\u001b[39m\u001b[38;5;124m'\u001b[39m: \u001b[43mschool_data\u001b[49m\u001b[43m[\u001b[49m\u001b[38;5;124;43m'\u001b[39;49m\u001b[38;5;124;43mSchool Name\u001b[39;49m\u001b[38;5;124;43m'\u001b[39;49m\u001b[43m]\u001b[49m,\n\u001b[0;32m     21\u001b[0m     \u001b[38;5;124m'\u001b[39m\u001b[38;5;124mTotal Students\u001b[39m\u001b[38;5;124m'\u001b[39m: school_data[\u001b[38;5;124m'\u001b[39m\u001b[38;5;124mTotal Students\u001b[39m\u001b[38;5;124m'\u001b[39m],\n\u001b[0;32m     22\u001b[0m     \u001b[38;5;124m'\u001b[39m\u001b[38;5;124mBudget\u001b[39m\u001b[38;5;124m'\u001b[39m: school_data[\u001b[38;5;124m'\u001b[39m\u001b[38;5;124mBudget\u001b[39m\u001b[38;5;124m'\u001b[39m],\n\u001b[0;32m     23\u001b[0m     \u001b[38;5;124m'\u001b[39m\u001b[38;5;124mAverage Test Score\u001b[39m\u001b[38;5;124m'\u001b[39m: school_data[\u001b[38;5;124m'\u001b[39m\u001b[38;5;124mAverage Test Score\u001b[39m\u001b[38;5;124m'\u001b[39m],\n\u001b[0;32m     24\u001b[0m     \u001b[38;5;124m'\u001b[39m\u001b[38;5;124mPer Student Budget\u001b[39m\u001b[38;5;124m'\u001b[39m: school_data[\u001b[38;5;124m'\u001b[39m\u001b[38;5;124mBudget\u001b[39m\u001b[38;5;124m'\u001b[39m] \u001b[38;5;241m/\u001b[39m school_data[\u001b[38;5;124m'\u001b[39m\u001b[38;5;124mTotal Students\u001b[39m\u001b[38;5;124m'\u001b[39m]\n\u001b[0;32m     25\u001b[0m })\n\u001b[0;32m     27\u001b[0m \u001b[38;5;66;03m# Display the per_school_summary DataFrame\u001b[39;00m\n\u001b[0;32m     28\u001b[0m \u001b[38;5;28mprint\u001b[39m(per_school_summary)\n",
      "File \u001b[1;32mc:\\Users\\Christine Espiritu\\miniconda3\\Lib\\site-packages\\pandas\\core\\frame.py:4102\u001b[0m, in \u001b[0;36mDataFrame.__getitem__\u001b[1;34m(self, key)\u001b[0m\n\u001b[0;32m   4100\u001b[0m \u001b[38;5;28;01mif\u001b[39;00m \u001b[38;5;28mself\u001b[39m\u001b[38;5;241m.\u001b[39mcolumns\u001b[38;5;241m.\u001b[39mnlevels \u001b[38;5;241m>\u001b[39m \u001b[38;5;241m1\u001b[39m:\n\u001b[0;32m   4101\u001b[0m     \u001b[38;5;28;01mreturn\u001b[39;00m \u001b[38;5;28mself\u001b[39m\u001b[38;5;241m.\u001b[39m_getitem_multilevel(key)\n\u001b[1;32m-> 4102\u001b[0m indexer \u001b[38;5;241m=\u001b[39m \u001b[38;5;28;43mself\u001b[39;49m\u001b[38;5;241;43m.\u001b[39;49m\u001b[43mcolumns\u001b[49m\u001b[38;5;241;43m.\u001b[39;49m\u001b[43mget_loc\u001b[49m\u001b[43m(\u001b[49m\u001b[43mkey\u001b[49m\u001b[43m)\u001b[49m\n\u001b[0;32m   4103\u001b[0m \u001b[38;5;28;01mif\u001b[39;00m is_integer(indexer):\n\u001b[0;32m   4104\u001b[0m     indexer \u001b[38;5;241m=\u001b[39m [indexer]\n",
      "File \u001b[1;32mc:\\Users\\Christine Espiritu\\miniconda3\\Lib\\site-packages\\pandas\\core\\indexes\\base.py:3812\u001b[0m, in \u001b[0;36mIndex.get_loc\u001b[1;34m(self, key)\u001b[0m\n\u001b[0;32m   3807\u001b[0m     \u001b[38;5;28;01mif\u001b[39;00m \u001b[38;5;28misinstance\u001b[39m(casted_key, \u001b[38;5;28mslice\u001b[39m) \u001b[38;5;129;01mor\u001b[39;00m (\n\u001b[0;32m   3808\u001b[0m         \u001b[38;5;28misinstance\u001b[39m(casted_key, abc\u001b[38;5;241m.\u001b[39mIterable)\n\u001b[0;32m   3809\u001b[0m         \u001b[38;5;129;01mand\u001b[39;00m \u001b[38;5;28many\u001b[39m(\u001b[38;5;28misinstance\u001b[39m(x, \u001b[38;5;28mslice\u001b[39m) \u001b[38;5;28;01mfor\u001b[39;00m x \u001b[38;5;129;01min\u001b[39;00m casted_key)\n\u001b[0;32m   3810\u001b[0m     ):\n\u001b[0;32m   3811\u001b[0m         \u001b[38;5;28;01mraise\u001b[39;00m InvalidIndexError(key)\n\u001b[1;32m-> 3812\u001b[0m     \u001b[38;5;28;01mraise\u001b[39;00m \u001b[38;5;167;01mKeyError\u001b[39;00m(key) \u001b[38;5;28;01mfrom\u001b[39;00m\u001b[38;5;250m \u001b[39m\u001b[38;5;21;01merr\u001b[39;00m\n\u001b[0;32m   3813\u001b[0m \u001b[38;5;28;01mexcept\u001b[39;00m \u001b[38;5;167;01mTypeError\u001b[39;00m:\n\u001b[0;32m   3814\u001b[0m     \u001b[38;5;66;03m# If we have a listlike key, _check_indexing_error will raise\u001b[39;00m\n\u001b[0;32m   3815\u001b[0m     \u001b[38;5;66;03m#  InvalidIndexError. Otherwise we fall through and re-raise\u001b[39;00m\n\u001b[0;32m   3816\u001b[0m     \u001b[38;5;66;03m#  the TypeError.\u001b[39;00m\n\u001b[0;32m   3817\u001b[0m     \u001b[38;5;28mself\u001b[39m\u001b[38;5;241m.\u001b[39m_check_indexing_error(key)\n",
      "\u001b[1;31mKeyError\u001b[0m: 'School Name'"
     ]
    }
   ],
   "source": [
    "import pandas as pd\n",
    " \n",
    "\n",
    "#  Create a DataFrame called `per_school_summary` with columns for the calculations above.\n",
    "\n",
    "# Create a DataFrame from the sample data\n",
    "school_data = pd.DataFrame(data)\n",
    "\n",
    "\n",
    "data = {\n",
    "    'School Name': ['School A', 'School B', 'School C'],\n",
    "    'Total Students': [1000, 1500, 1200],\n",
    "    'Budget': [500000, 750000, 600000],\n",
    "    'Average Test Score': [85, 90, 88]\n",
    "\n",
    "}\n",
    "\n",
    "# Create the per_school_summary DataFrame\n",
    "per_school_summary = pd.DataFrame({\n",
    "    'School Name': school_data['School Name'],\n",
    "    'Total Students': school_data['Total Students'],\n",
    "    'Budget': school_data['Budget'],\n",
    "    'Average Test Score': school_data['Average Test Score'],\n",
    "    'Per Student Budget': school_data['Budget'] / school_data['Total Students']\n",
    "})\n",
    "\n",
    "# Display the per_school_summary DataFrame\n",
    "print(per_school_summary)\n",
    "\n"
   ]
  },
  {
   "cell_type": "markdown",
   "metadata": {},
   "source": [
    "## Highest-Performing Schools (by % Overall Passing)"
   ]
  },
  {
   "cell_type": "code",
   "execution_count": null,
   "metadata": {
    "scrolled": true
   },
   "outputs": [
    {
     "name": "stdout",
     "output_type": "stream",
     "text": [
      "  School Name  Total Students  Budget  Average Test Score  % Overall Passing\n",
      "1    School B            1500  750000                  90                 80\n",
      "2    School C            1200  600000                  88                 78\n",
      "0    School A            1000  500000                  85                 75\n"
     ]
    }
   ],
   "source": [
    "# Sort the schools by `% Overall Passing` in descending order and display the top 5 rows.\n",
    "\n",
    "import pandas as pd\n",
    "\n",
    "# Sample data including % Overall Passing for demonstration\n",
    "data = {\n",
    "    'School Name': ['School A', 'School B', 'School C'],\n",
    "    'Total Students': [1000, 1500, 1200],\n",
    "    'Budget': [500000, 750000, 600000],\n",
    "    'Average Test Score': [85, 90, 88],\n",
    "    '% Overall Passing': [75, 80, 78]  # Example percentages\n",
    "}\n",
    "\n",
    "# Create a DataFrame from the sample data\n",
    "per_school_summary = pd.DataFrame(data)\n",
    "\n",
    "# Sort the DataFrame by % Overall Passing in descending order\n",
    "sorted_per_school_summary = per_school_summary.sort_values(by='% Overall Passing', ascending=False)\n",
    "\n",
    "\n",
    "#Display the top 5 rows\n",
    "top_5_schools = sorted_per_school_summary.head(5)\n",
    "print(top_5_schools)\n",
    "\n"
   ]
  },
  {
   "cell_type": "markdown",
   "metadata": {},
   "source": [
    "## Bottom Performing Schools (By % Overall Passing)"
   ]
  },
  {
   "cell_type": "code",
   "execution_count": null,
   "metadata": {},
   "outputs": [
    {
     "name": "stdout",
     "output_type": "stream",
     "text": [
      "  School Name  Total Students  Budget  Average Test Score  % Overall Passing\n",
      "0    School A            1000  500000                  85                 75\n",
      "2    School C            1200  600000                  88                 78\n",
      "1    School B            1500  750000                  90                 80\n"
     ]
    }
   ],
   "source": [
    "# Sort the schools by `% Overall Passing` in ascending order and display the top 5 rows.\n",
    "\n",
    "\n",
    "# Sample data including % Overall Passing for demonstration\n",
    "data = {\n",
    "    'School Name': ['School A', 'School B', 'School C'],\n",
    "    'Total Students': [1000, 1500, 1200],\n",
    "    'Budget': [500000, 750000, 600000],\n",
    "    'Average Test Score': [85, 90, 88],\n",
    "    '% Overall Passing': [75, 80, 78]  # Example percentages\n",
    "}\n",
    "\n",
    "# Create a DataFrame from the sample data\n",
    "per_school_summary = pd.DataFrame(data)\n",
    "\n",
    "# Sort the DataFrame by % Overall Passing in ascending order\n",
    "sorted_per_school_summary = per_school_summary.sort_values(by='% Overall Passing', ascending=True)\n",
    "\n",
    "# Display the top 5 rows\n",
    "top_5_schools = sorted_per_school_summary.head(5)\n",
    "print(top_5_schools)\n",
    "\n",
    "\n",
    "\n",
    "#bottom_schools =\n",
    "#bottom_schools.head(5)\n"
   ]
  },
  {
   "cell_type": "markdown",
   "metadata": {},
   "source": [
    "## Math Scores by Grade"
   ]
  },
  {
   "cell_type": "code",
   "execution_count": null,
   "metadata": {},
   "outputs": [
    {
     "name": "stdout",
     "output_type": "stream",
     "text": [
      "             9th Grade Math Score  10th Grade Math Score  \\\n",
      "school_name                                                \n",
      "School A                     85.0                   90.0   \n",
      "School B                     78.0                    NaN   \n",
      "School C                      NaN                   92.0   \n",
      "\n",
      "             11th Grade Math Score  12th Grade Math Score  \n",
      "school_name                                                \n",
      "School A                       NaN                    NaN  \n",
      "School B                      88.0                    NaN  \n",
      "School C                       NaN                   76.0  \n"
     ]
    }
   ],
   "source": [
    "# Use the code provided to separate the data by grade\n",
    "\n",
    "import pandas as pd\n",
    "\n",
    "# Sample data for demonstration\n",
    "data = {\n",
    "    'school_name': ['School A', 'School A', 'School B', 'School B', 'School C', 'School C'],\n",
    "    'grade': ['9th', '10th', '9th', '11th', '10th', '12th'],\n",
    "    'math_score': [85, 90, 78, 88, 92, 76]\n",
    "}\n",
    "\n",
    "# Create a DataFrame from the sample data\n",
    "school_data_complete = pd.DataFrame(data)\n",
    "\n",
    "# Use the code provided to separate the data by grade\n",
    "ninth_graders = school_data_complete.loc[(school_data_complete[\"grade\"] == \"9th\")]\n",
    "tenth_graders = school_data_complete.loc[(school_data_complete[\"grade\"] == \"10th\")]\n",
    "eleventh_graders = school_data_complete.loc[(school_data_complete[\"grade\"] == \"11th\")]\n",
    "twelfth_graders = school_data_complete.loc[(school_data_complete[\"grade\"] == \"12th\")]\n",
    "\n",
    "# Group by `school_name` and take the mean of the `math_score` column for each.\n",
    "ninth_grade_math_scores = ninth_graders.groupby(\"school_name\")[\"math_score\"].mean()\n",
    "tenth_grade_math_scores = tenth_graders.groupby(\"school_name\")[\"math_score\"].mean()\n",
    "eleventh_grade_math_scores = eleventh_graders.groupby(\"school_name\")[\"math_score\"].mean()\n",
    "twelfth_grade_math_scores = twelfth_graders.groupby(\"school_name\")[\"math_score\"].mean()\n",
    "\n",
    "# Combine each of the scores above into a single DataFrame called `math_scores_by_grade`\n",
    "math_scores_by_grade = pd.DataFrame({\n",
    "    '9th Grade Math Score': ninth_grade_math_scores,\n",
    "    '10th Grade Math Score': tenth_grade_math_scores,\n",
    "    '11th Grade Math Score': eleventh_grade_math_scores,\n",
    "    '12th Grade Math Score': twelfth_grade_math_scores\n",
    "})\n",
    "\n",
    "# Display the DataFrame\n",
    "print(math_scores_by_grade)\n",
    "\n",
    "\n",
    "\n",
    "\n",
    "\n",
    "#ninth_graders = school_data_complete.loc[(school_data_complete[\"grade\"] == \"9th\")]\n",
    "#tenth_graders = school_data_complete.loc[(school_data_complete[\"grade\"] == \"10th\")]\n",
    "#eleventh_graders = school_data_complete.loc[(school_data_complete[\"grade\"] == \"11th\")]\n",
    "#twelfth_graders = school_data_complete.loc[(school_data_complete[\"grade\"] == \"12th\")]\n",
    "\n",
    "# Group by `school_name` and take the mean of the `math_score` column for each.\n",
    "#ninth_grade_math_scores =\n",
    "#tenth_grader_math_scores =\n",
    "#eleventh_grader_math_scores =\n",
    "#twelfth_grader_math_scores =\n",
    "\n",
    "# Combine each of the scores above into single DataFrame called `math_scores_by_grade`\n",
    "#math_scores_by_grade =\n",
    "\n",
    "# Display the DataFrame\n",
    "#math_scores_by_grade\n"
   ]
  },
  {
   "cell_type": "markdown",
   "metadata": {},
   "source": [
    "## Reading Score by Grade "
   ]
  },
  {
   "cell_type": "code",
   "execution_count": null,
   "metadata": {},
   "outputs": [
    {
     "name": "stdout",
     "output_type": "stream",
     "text": [
      "             9th Grade Reading Score  10th Grade Reading Score  \\\n",
      "school_name                                                      \n",
      "School A                        88.0                      92.0   \n",
      "School B                        79.0                       NaN   \n",
      "School C                         NaN                      90.0   \n",
      "\n",
      "             11th Grade Reading Score  12th Grade Reading Score  \n",
      "school_name                                                      \n",
      "School A                          NaN                       NaN  \n",
      "School B                         85.0                       NaN  \n",
      "School C                          NaN                      76.0  \n"
     ]
    }
   ],
   "source": [
    "# Use the code provided to separate the data by grade\n",
    "\n",
    "import pandas as pd\n",
    "\n",
    "# Sample data for demonstration\n",
    "data = {\n",
    "    'school_name': ['School A', 'School A', 'School B', 'School B', 'School C', 'School C'],\n",
    "    'grade': ['9th', '10th', '9th', '11th', '10th', '12th'],\n",
    "    'reading_score': [88, 92, 79, 85, 90, 76]\n",
    "}\n",
    "\n",
    "# Create a DataFrame from the sample data\n",
    "school_data_complete = pd.DataFrame(data)\n",
    "\n",
    "# Use the code provided to separate the data by grade\n",
    "ninth_graders = school_data_complete.loc[(school_data_complete[\"grade\"] == \"9th\")]\n",
    "tenth_graders = school_data_complete.loc[(school_data_complete[\"grade\"] == \"10th\")]\n",
    "eleventh_graders = school_data_complete.loc[(school_data_complete[\"grade\"] == \"11th\")]\n",
    "twelfth_graders = school_data_complete.loc[(school_data_complete[\"grade\"] == \"12th\")]\n",
    "\n",
    "# Group by `school_name` and take the mean of the `reading_score` column for each.\n",
    "ninth_grade_reading_scores = ninth_graders.groupby(\"school_name\")[\"reading_score\"].mean()\n",
    "tenth_grade_reading_scores = tenth_graders.groupby(\"school_name\")[\"reading_score\"].mean()\n",
    "eleventh_grade_reading_scores = eleventh_graders.groupby(\"school_name\")[\"reading_score\"].mean()\n",
    "twelfth_grade_reading_scores = twelfth_graders.groupby(\"school_name\")[\"reading_score\"].mean()\n",
    "\n",
    "# Combine each of the scores above into a single DataFrame called `reading_scores_by_grade`\n",
    "reading_scores_by_grade = pd.DataFrame({\n",
    "    '9th Grade Reading Score': ninth_grade_reading_scores,\n",
    "    '10th Grade Reading Score': tenth_grade_reading_scores,\n",
    "    '11th Grade Reading Score': eleventh_grade_reading_scores,\n",
    "    '12th Grade Reading Score': twelfth_grade_reading_scores\n",
    "})\n",
    "\n",
    "# Display the DataFrame\n",
    "print(reading_scores_by_grade)\n",
    "\n",
    "\n",
    "\n",
    "\n",
    "\n",
    "\n",
    "\n",
    "\n",
    "#ninth_graders = school_data_complete.loc[(school_data_complete[\"grade\"] == \"9th\")]\n",
    "#tenth_graders = school_data_complete.loc[(school_data_complete[\"grade\"] == \"10th\")]\n",
    "#eleventh_graders = school_data_complete.loc[(school_data_complete[\"grade\"] == \"11th\")]\n",
    "#twelfth_graders = school_data_complete.loc[(school_data_complete[\"grade\"] == \"12th\")]\n",
    "\n",
    "# Group by `school_name` and take the mean of the the `reading_score` column for each.\n",
    "#ninth_grade_reading_scores =\n",
    "#tenth_grader_reading_scores =\n",
    "#eleventh_grader_reading_scores =\n",
    "#twelfth_grader_reading_scores =\n",
    "\n",
    "# Combine each of the scores above into single DataFrame called `reading_scores_by_grade`\n",
    "#reading_scores_by_grade =\n",
    "\n",
    "# Display the DataFrame\n",
    "#reading_scores_by_grade\n"
   ]
  },
  {
   "cell_type": "markdown",
   "metadata": {},
   "source": [
    "## Scores by School Spending"
   ]
  },
  {
   "cell_type": "code",
   "execution_count": null,
   "metadata": {},
   "outputs": [
    {
     "name": "stdout",
     "output_type": "stream",
     "text": [
      "  spending_category  math_score  reading_score\n",
      "0             <$585   84.333333      86.333333\n",
      "1          $585-630   88.000000      85.000000\n",
      "2          $630-645         NaN            NaN\n",
      "3          $645-680         NaN            NaN\n"
     ]
    },
    {
     "name": "stderr",
     "output_type": "stream",
     "text": [
      "C:\\Users\\Christine Espiritu\\AppData\\Local\\Temp\\ipykernel_51136\\32063696.py:29: FutureWarning: The default of observed=False is deprecated and will be changed to True in a future version of pandas. Pass observed=False to retain current behavior or observed=True to adopt the future default and silence this warning.\n",
      "  spending_summary = school_data_complete.groupby('spending_category').agg({\n"
     ]
    }
   ],
   "source": [
    "# Establish the bins\n",
    "\n",
    "import pandas as pd\n",
    "\n",
    "\n",
    "# Sample data for demonstration\n",
    "data = {\n",
    "    'school_name': ['School A', 'School B', 'School C', 'School D'],\n",
    "    'total_budget': [500000, 600000, 700000, 650000],\n",
    "    'total_students': [1000, 1200, 1500, 1100],\n",
    "    'math_score': [85, 90, 78, 88],\n",
    "    'reading_score': [88, 92, 79, 85]\n",
    "}\n",
    "\n",
    "# Create a DataFrame from the sample data\n",
    "school_data_complete = pd.DataFrame(data)\n",
    "\n",
    "# Calculate spending per student\n",
    "school_data_complete['spending_per_student'] = school_data_complete['total_budget'] / school_data_complete['total_students']\n",
    "\n",
    "# Establish the bins and labels\n",
    "spending_bins = [0, 585, 630, 645, 680]\n",
    "labels = [\"<$585\", \"$585-630\", \"$630-645\", \"$645-680\"]\n",
    "\n",
    "# Cut the spending data into bins\n",
    "school_data_complete['spending_category'] = pd.cut(school_data_complete['spending_per_student'], bins=spending_bins, labels=labels)\n",
    "\n",
    "# Group by spending category and calculate the mean scores\n",
    "spending_summary = school_data_complete.groupby('spending_category').agg({\n",
    "    'math_score': 'mean',\n",
    "    'reading_score': 'mean'\n",
    "}).reset_index()\n",
    "\n",
    "# Display the summary DataFrame\n",
    "print(spending_summary)\n",
    "\n",
    "\n",
    "#spending_bins = [0, 585, 630, 645, 680]\n",
    "#labels = [\"<$585\", \"$585-630\", \"$630-645\", \"$645-680\"]\n"
   ]
  },
  {
   "cell_type": "code",
   "execution_count": null,
   "metadata": {},
   "outputs": [
    {
     "name": "stdout",
     "output_type": "stream",
     "text": [
      "  School Name  Total Students  Budget  Average Test Score  % Overall Passing\n",
      "0    School A            1000  500000                  85                 75\n",
      "1    School B            1500  750000                  90                 80\n",
      "2    School C            1200  600000                  88                 78\n"
     ]
    }
   ],
   "source": [
    "# Create a copy of the school summary for later aggregations\n",
    "#school_spending_df = per_school_summary.copy()\n",
    "\n",
    "\n",
    "\n",
    "\n",
    "# Assuming per_school_summary is already defined\n",
    "school_spending_df = per_school_summary.copy()\n",
    "\n",
    "#Display\n",
    "print (school_spending_df)\n",
    "# Now you can use school_spending_df for further aggregations or modifications\n",
    "\n",
    "\n",
    "#school_spending_df is created as a copy of per_school_summary. This means any changes made to school_spending_df will not affect the original per_school_summary \n"
   ]
  },
  {
   "cell_type": "code",
   "execution_count": null,
   "metadata": {},
   "outputs": [
    {
     "name": "stdout",
     "output_type": "stream",
     "text": [
      "  school_name  per_school_capita Spending Ranges (Per Student)\n",
      "0    School A                500                         <$585\n",
      "1    School B                600                      $585-630\n",
      "2    School C                700                           nan\n",
      "3    School D                650                      $645-680\n"
     ]
    }
   ],
   "source": [
    "# Use `pd.cut` on the per_school_capita Series from earlier to categorize per student spending based on the bins.\n",
    "#school_spending_df[\"Spending Ranges (Per Student)\"] =\n",
    "\n",
    "# Convert Spending Ranges (Per Student) to a string\n",
    "#school_spending_df[\"Spending Ranges (Per Student)\"] = school_spending_df[\"Spending Ranges (Per Student)\"].astype(str)\n",
    "#school_spending_df\n",
    "\n",
    "\n",
    "import pandas as pd\n",
    "\n",
    "# Sample data for demonstration (assuming per_school_capita is already calculated)\n",
    "data = {\n",
    "    'school_name': ['School A', 'School B', 'School C', 'School D'],\n",
    "    'per_school_capita': [500, 600, 700, 650]  # Example per student spending\n",
    "}\n",
    "\n",
    "# Create a DataFrame from the sample data\n",
    "per_school_summary = pd.DataFrame(data)\n",
    "\n",
    "# Create a copy of the school summary for later aggregations\n",
    "school_spending_df = per_school_summary.copy()\n",
    "\n",
    "# Establish the bins and labels for spending ranges\n",
    "spending_bins = [0, 585, 630, 645, 680]\n",
    "labels = [\"<$585\", \"$585-630\", \"$630-645\", \"$645-680\"]\n",
    "\n",
    "# Use `pd.cut` on the per_school_capita Series to categorize per student spending based on the bins\n",
    "school_spending_df[\"Spending Ranges (Per Student)\"] = pd.cut(school_spending_df[\"per_school_capita\"], bins=spending_bins, labels=labels)\n",
    "\n",
    "# Convert Spending Ranges (Per Student) to a string\n",
    "school_spending_df[\"Spending Ranges (Per Student)\"] = school_spending_df[\"Spending Ranges (Per Student)\"].astype(str)\n",
    "\n",
    "# Display the updated DataFrame\n",
    "print(school_spending_df)\n",
    "\n",
    "\n",
    "\n"
   ]
  },
  {
   "cell_type": "code",
   "execution_count": null,
   "metadata": {},
   "outputs": [
    {
     "name": "stdout",
     "output_type": "stream",
     "text": [
      "                               Average Math Score  Average Reading Score  \\\n",
      "Spending Ranges (Per Student)                                              \n",
      "<$585                                        85.0                   88.0   \n",
      "$585-630                                     90.0                   92.0   \n",
      "$630-645                                      NaN                    NaN   \n",
      "$645-680                                     88.0                   85.0   \n",
      "\n",
      "                               % Passing Math  % Passing Reading  \\\n",
      "Spending Ranges (Per Student)                                      \n",
      "<$585                                    80.0               85.0   \n",
      "$585-630                                 85.0               90.0   \n",
      "$630-645                                  NaN                NaN   \n",
      "$645-680                                 82.0               84.0   \n",
      "\n",
      "                               % Overall Passing  \n",
      "Spending Ranges (Per Student)                     \n",
      "<$585                                       82.5  \n",
      "$585-630                                    87.5  \n",
      "$630-645                                     NaN  \n",
      "$645-680                                    83.0  \n"
     ]
    },
    {
     "name": "stderr",
     "output_type": "stream",
     "text": [
      "C:\\Users\\Christine Espiritu\\AppData\\Local\\Temp\\ipykernel_23072\\2773071615.py:27: FutureWarning: The default of observed=False is deprecated and will be changed to True in a future version of pandas. Pass observed=False to retain current behavior or observed=True to adopt the future default and silence this warning.\n",
      "  spending_math_scores = school_spending_df.groupby([\"Spending Ranges (Per Student)\"])[\"Average Math Score\"].mean()\n",
      "C:\\Users\\Christine Espiritu\\AppData\\Local\\Temp\\ipykernel_23072\\2773071615.py:28: FutureWarning: The default of observed=False is deprecated and will be changed to True in a future version of pandas. Pass observed=False to retain current behavior or observed=True to adopt the future default and silence this warning.\n",
      "  spending_reading_scores = school_spending_df.groupby([\"Spending Ranges (Per Student)\"])[\"Average Reading Score\"].mean()\n",
      "C:\\Users\\Christine Espiritu\\AppData\\Local\\Temp\\ipykernel_23072\\2773071615.py:29: FutureWarning: The default of observed=False is deprecated and will be changed to True in a future version of pandas. Pass observed=False to retain current behavior or observed=True to adopt the future default and silence this warning.\n",
      "  spending_passing_math = school_spending_df.groupby([\"Spending Ranges (Per Student)\"])[\"% Passing Math\"].mean()\n",
      "C:\\Users\\Christine Espiritu\\AppData\\Local\\Temp\\ipykernel_23072\\2773071615.py:30: FutureWarning: The default of observed=False is deprecated and will be changed to True in a future version of pandas. Pass observed=False to retain current behavior or observed=True to adopt the future default and silence this warning.\n",
      "  spending_passing_reading = school_spending_df.groupby([\"Spending Ranges (Per Student)\"])[\"% Passing Reading\"].mean()\n",
      "C:\\Users\\Christine Espiritu\\AppData\\Local\\Temp\\ipykernel_23072\\2773071615.py:31: FutureWarning: The default of observed=False is deprecated and will be changed to True in a future version of pandas. Pass observed=False to retain current behavior or observed=True to adopt the future default and silence this warning.\n",
      "  overall_passing_spending = school_spending_df.groupby([\"Spending Ranges (Per Student)\"])[\"% Overall Passing\"].mean()\n"
     ]
    }
   ],
   "source": [
    "#  Calculate averages for the desired columns.\n",
    "#spending_math_scores = school_spending_df.groupby([\"Spending Ranges (Per Student)\"])[\"Average Math Score\"].mean()\n",
    "#spending_reading_scores = school_spending_df.groupby([\"Spending Ranges (Per Student)\"])[\"Average Reading Score\"].mean()\n",
    "#spending_passing_math = school_spending_df.groupby([\"Spending Ranges (Per Student)\"])[\"% Passing Math\"].mean()\n",
    "#spending_passing_reading = school_spending_df.groupby([\"Spending Ranges (Per Student)\"])[\"% Passing Reading\"].mean()\n",
    "#overall_passing_spending = school_spending_df.groupby([\"Spending Ranges (Per Student)\"])[\"% Overall Passing\"].mean()\n",
    "\n",
    "\n",
    "import pandas as pd\n",
    "\n",
    "# Sample data for demonstration (assuming these columns exist in your DataFrame)\n",
    "data = {\n",
    "    'school_name': ['School A', 'School B', 'School C', 'School D'],\n",
    "    'per_school_capita': [500, 600, 700, 650],\n",
    "    'Average Math Score': [85, 90, 78, 88],\n",
    "    'Average Reading Score': [88, 92, 79, 85],\n",
    "    '% Passing Math': [80, 85, 75, 82],\n",
    "    '% Passing Reading': [85, 90, 78, 84],\n",
    "    '% Overall Passing': [82.5, 87.5, 76.5, 83.0],\n",
    "    'Spending Ranges (Per Student)': pd.cut([500, 600, 700, 650], bins=[0, 585, 630, 645, 680], labels=[\"<$585\", \"$585-630\", \"$630-645\", \"$645-680\"])\n",
    "}\n",
    "\n",
    "# Create a DataFrame from the sample data\n",
    "school_spending_df = pd.DataFrame(data)\n",
    "\n",
    "# Calculate averages for the desired columns\n",
    "spending_math_scores = school_spending_df.groupby([\"Spending Ranges (Per Student)\"])[\"Average Math Score\"].mean()\n",
    "spending_reading_scores = school_spending_df.groupby([\"Spending Ranges (Per Student)\"])[\"Average Reading Score\"].mean()\n",
    "spending_passing_math = school_spending_df.groupby([\"Spending Ranges (Per Student)\"])[\"% Passing Math\"].mean()\n",
    "spending_passing_reading = school_spending_df.groupby([\"Spending Ranges (Per Student)\"])[\"% Passing Reading\"].mean()\n",
    "overall_passing_spending = school_spending_df.groupby([\"Spending Ranges (Per Student)\"])[\"% Overall Passing\"].mean()\n",
    "\n",
    "# Combine the results into a single DataFrame for better readability\n",
    "spending_summary_df = pd.DataFrame({\n",
    "    'Average Math Score': spending_math_scores,\n",
    "    'Average Reading Score': spending_reading_scores,\n",
    "    '% Passing Math': spending_passing_math,\n",
    "    '% Passing Reading': spending_passing_reading,\n",
    "    '% Overall Passing': overall_passing_spending\n",
    "})\n",
    "\n",
    "# Display the summary DataFrame\n",
    "print(spending_summary_df)\n",
    "\n",
    "\n",
    "\n",
    "# Fill NaN values with a placeholder (if needed)\n",
    "#school_size_df[\"School Size\"].fillna('Unknown', inplace=True)"
   ]
  },
  {
   "cell_type": "code",
   "execution_count": null,
   "metadata": {},
   "outputs": [
    {
     "name": "stdout",
     "output_type": "stream",
     "text": [
      "  Spending Ranges (Per Student)  Average Math Score  Average Reading Score  \\\n",
      "0                         <$585                85.0                   88.0   \n",
      "1                      $585-630                90.0                   92.0   \n",
      "2                      $630-645                 NaN                    NaN   \n",
      "3                      $645-680                88.0                   85.0   \n",
      "\n",
      "   % Passing Math  % Passing Reading  % Overall Passing  \n",
      "0            80.0               85.0               82.5  \n",
      "1            85.0               90.0               87.5  \n",
      "2             NaN                NaN                NaN  \n",
      "3            82.0               84.0               83.0  \n"
     ]
    }
   ],
   "source": [
    "# Assemble into DataFrame\n",
    "#spending_summary =\n",
    "\n",
    "# Display results\n",
    "#spending_summary\n",
    "\n",
    "\n",
    "\n",
    "\n",
    "# Assemble into DataFrame\n",
    "spending_summary = pd.DataFrame({\n",
    "    'Average Math Score': spending_math_scores,\n",
    "    'Average Reading Score': spending_reading_scores,\n",
    "    '% Passing Math': spending_passing_math,\n",
    "    '% Passing Reading': spending_passing_reading,\n",
    "    '% Overall Passing': overall_passing_spending\n",
    "})\n",
    "\n",
    "# Reset the index to make it more readable\n",
    "spending_summary.reset_index(inplace=True)\n",
    "\n",
    "# Display the spending summary DataFrame\n",
    "print(spending_summary)\n",
    "\n"
   ]
  },
  {
   "cell_type": "markdown",
   "metadata": {},
   "source": [
    "## Scores by School Size"
   ]
  },
  {
   "cell_type": "code",
   "execution_count": null,
   "metadata": {},
   "outputs": [
    {
     "name": "stdout",
     "output_type": "stream",
     "text": [
      "  school_name  total_students         School Size\n",
      "0    School A             800       Small (<1000)\n",
      "1    School B            1500  Medium (1000-2000)\n",
      "2    School C            2500   Large (2000-5000)\n",
      "3    School D            3000   Large (2000-5000)\n"
     ]
    }
   ],
   "source": [
    "# Establish the bins.\n",
    "#size_bins = [0, 1000, 2000, 5000]\n",
    "#labels = [\"Small (<1000)\", \"Medium (1000-2000)\", \"Large (2000-5000)\"]\n",
    "\n",
    "import pandas as pd\n",
    "\n",
    "# Sample data for demonstration (assuming you have a column for total students)\n",
    "data = {\n",
    "    'school_name': ['School A', 'School B', 'School C', 'School D'],\n",
    "    'total_students': [800, 1500, 2500, 3000]  # Example total students\n",
    "}\n",
    "\n",
    "# Create a DataFrame from the sample data\n",
    "school_data = pd.DataFrame(data)\n",
    "\n",
    "# Establish the bins and labels for school sizes\n",
    "size_bins = [0, 1000, 2000, 5000]\n",
    "labels = [\"Small (<1000)\", \"Medium (1000-2000)\", \"Large (2000-5000)\"]\n",
    "\n",
    "# Use `pd.cut` on the total_students Series to categorize school size\n",
    "school_data[\"School Size\"] = pd.cut(school_data[\"total_students\"], bins=size_bins, labels=labels)\n",
    "\n",
    "# Display the updated DataFrame\n",
    "print(school_data)"
   ]
  },
  {
   "cell_type": "code",
   "execution_count": null,
   "metadata": {},
   "outputs": [
    {
     "name": "stdout",
     "output_type": "stream",
     "text": [
      "  school_name  total_students  Average Math Score  Average Reading Score\n",
      "0    School A             800                  85                     88\n",
      "1    School B            1500                  90                     92\n",
      "2    School C            2500                  78                     79\n",
      "3    School D            3000                  88                     85\n"
     ]
    }
   ],
   "source": [
    "# Create a copy of the school summary for later aggregations\n",
    "#school_size_df = per_school_summary.copy()\n",
    "\n",
    "# Create a copy of the school summary for later aggregations\n",
    "school_size_df = per_school_summary.copy()\n",
    "\n",
    "print(school_size_df)"
   ]
  },
  {
   "cell_type": "code",
   "execution_count": null,
   "metadata": {},
   "outputs": [
    {
     "ename": "KeyError",
     "evalue": "'per_school_counts'",
     "output_type": "error",
     "traceback": [
      "\u001b[1;31m---------------------------------------------------------------------------\u001b[0m",
      "\u001b[1;31mKeyError\u001b[0m                                  Traceback (most recent call last)",
      "File \u001b[1;32mc:\\Users\\Christine Espiritu\\miniconda3\\Lib\\site-packages\\pandas\\core\\indexes\\base.py:3805\u001b[0m, in \u001b[0;36mIndex.get_loc\u001b[1;34m(self, key)\u001b[0m\n\u001b[0;32m   3804\u001b[0m \u001b[38;5;28;01mtry\u001b[39;00m:\n\u001b[1;32m-> 3805\u001b[0m     \u001b[38;5;28;01mreturn\u001b[39;00m \u001b[38;5;28;43mself\u001b[39;49m\u001b[38;5;241;43m.\u001b[39;49m\u001b[43m_engine\u001b[49m\u001b[38;5;241;43m.\u001b[39;49m\u001b[43mget_loc\u001b[49m\u001b[43m(\u001b[49m\u001b[43mcasted_key\u001b[49m\u001b[43m)\u001b[49m\n\u001b[0;32m   3806\u001b[0m \u001b[38;5;28;01mexcept\u001b[39;00m \u001b[38;5;167;01mKeyError\u001b[39;00m \u001b[38;5;28;01mas\u001b[39;00m err:\n",
      "File \u001b[1;32mindex.pyx:167\u001b[0m, in \u001b[0;36mpandas._libs.index.IndexEngine.get_loc\u001b[1;34m()\u001b[0m\n",
      "File \u001b[1;32mindex.pyx:196\u001b[0m, in \u001b[0;36mpandas._libs.index.IndexEngine.get_loc\u001b[1;34m()\u001b[0m\n",
      "File \u001b[1;32mpandas\\\\_libs\\\\hashtable_class_helper.pxi:7081\u001b[0m, in \u001b[0;36mpandas._libs.hashtable.PyObjectHashTable.get_item\u001b[1;34m()\u001b[0m\n",
      "File \u001b[1;32mpandas\\\\_libs\\\\hashtable_class_helper.pxi:7089\u001b[0m, in \u001b[0;36mpandas._libs.hashtable.PyObjectHashTable.get_item\u001b[1;34m()\u001b[0m\n",
      "\u001b[1;31mKeyError\u001b[0m: 'per_school_counts'",
      "\nThe above exception was the direct cause of the following exception:\n",
      "\u001b[1;31mKeyError\u001b[0m                                  Traceback (most recent call last)",
      "Cell \u001b[1;32mIn[9], line 31\u001b[0m\n\u001b[0;32m     27\u001b[0m student_count \u001b[38;5;241m=\u001b[39m student_data[\u001b[38;5;124m'\u001b[39m\u001b[38;5;124mstudent_name\u001b[39m\u001b[38;5;124m'\u001b[39m]\u001b[38;5;241m.\u001b[39mnunique()\n\u001b[0;32m     30\u001b[0m \u001b[38;5;66;03m# Use `pd.cut` on the per_school_counts Series to categorize school size\u001b[39;00m\n\u001b[1;32m---> 31\u001b[0m per_school_counts[\u001b[38;5;124m\"\u001b[39m\u001b[38;5;124mschool_data\u001b[39m\u001b[38;5;124m\"\u001b[39m] \u001b[38;5;241m=\u001b[39m pd\u001b[38;5;241m.\u001b[39mcut(\u001b[43mper_school_counts\u001b[49m\u001b[43m[\u001b[49m\u001b[38;5;124;43m\"\u001b[39;49m\u001b[38;5;124;43mper_school_counts\u001b[39;49m\u001b[38;5;124;43m\"\u001b[39;49m\u001b[43m]\u001b[49m, bins\u001b[38;5;241m=\u001b[39msize_bins, labels\u001b[38;5;241m=\u001b[39mlabels)\n\u001b[0;32m     33\u001b[0m \u001b[38;5;66;03m# Display the updated DataFrame\u001b[39;00m\n\u001b[0;32m     34\u001b[0m \u001b[38;5;28mprint\u001b[39m(per_school_counts)\n",
      "File \u001b[1;32mc:\\Users\\Christine Espiritu\\miniconda3\\Lib\\site-packages\\pandas\\core\\frame.py:4102\u001b[0m, in \u001b[0;36mDataFrame.__getitem__\u001b[1;34m(self, key)\u001b[0m\n\u001b[0;32m   4100\u001b[0m \u001b[38;5;28;01mif\u001b[39;00m \u001b[38;5;28mself\u001b[39m\u001b[38;5;241m.\u001b[39mcolumns\u001b[38;5;241m.\u001b[39mnlevels \u001b[38;5;241m>\u001b[39m \u001b[38;5;241m1\u001b[39m:\n\u001b[0;32m   4101\u001b[0m     \u001b[38;5;28;01mreturn\u001b[39;00m \u001b[38;5;28mself\u001b[39m\u001b[38;5;241m.\u001b[39m_getitem_multilevel(key)\n\u001b[1;32m-> 4102\u001b[0m indexer \u001b[38;5;241m=\u001b[39m \u001b[38;5;28;43mself\u001b[39;49m\u001b[38;5;241;43m.\u001b[39;49m\u001b[43mcolumns\u001b[49m\u001b[38;5;241;43m.\u001b[39;49m\u001b[43mget_loc\u001b[49m\u001b[43m(\u001b[49m\u001b[43mkey\u001b[49m\u001b[43m)\u001b[49m\n\u001b[0;32m   4103\u001b[0m \u001b[38;5;28;01mif\u001b[39;00m is_integer(indexer):\n\u001b[0;32m   4104\u001b[0m     indexer \u001b[38;5;241m=\u001b[39m [indexer]\n",
      "File \u001b[1;32mc:\\Users\\Christine Espiritu\\miniconda3\\Lib\\site-packages\\pandas\\core\\indexes\\base.py:3812\u001b[0m, in \u001b[0;36mIndex.get_loc\u001b[1;34m(self, key)\u001b[0m\n\u001b[0;32m   3807\u001b[0m     \u001b[38;5;28;01mif\u001b[39;00m \u001b[38;5;28misinstance\u001b[39m(casted_key, \u001b[38;5;28mslice\u001b[39m) \u001b[38;5;129;01mor\u001b[39;00m (\n\u001b[0;32m   3808\u001b[0m         \u001b[38;5;28misinstance\u001b[39m(casted_key, abc\u001b[38;5;241m.\u001b[39mIterable)\n\u001b[0;32m   3809\u001b[0m         \u001b[38;5;129;01mand\u001b[39;00m \u001b[38;5;28many\u001b[39m(\u001b[38;5;28misinstance\u001b[39m(x, \u001b[38;5;28mslice\u001b[39m) \u001b[38;5;28;01mfor\u001b[39;00m x \u001b[38;5;129;01min\u001b[39;00m casted_key)\n\u001b[0;32m   3810\u001b[0m     ):\n\u001b[0;32m   3811\u001b[0m         \u001b[38;5;28;01mraise\u001b[39;00m InvalidIndexError(key)\n\u001b[1;32m-> 3812\u001b[0m     \u001b[38;5;28;01mraise\u001b[39;00m \u001b[38;5;167;01mKeyError\u001b[39;00m(key) \u001b[38;5;28;01mfrom\u001b[39;00m\u001b[38;5;250m \u001b[39m\u001b[38;5;21;01merr\u001b[39;00m\n\u001b[0;32m   3813\u001b[0m \u001b[38;5;28;01mexcept\u001b[39;00m \u001b[38;5;167;01mTypeError\u001b[39;00m:\n\u001b[0;32m   3814\u001b[0m     \u001b[38;5;66;03m# If we have a listlike key, _check_indexing_error will raise\u001b[39;00m\n\u001b[0;32m   3815\u001b[0m     \u001b[38;5;66;03m#  InvalidIndexError. Otherwise we fall through and re-raise\u001b[39;00m\n\u001b[0;32m   3816\u001b[0m     \u001b[38;5;66;03m#  the TypeError.\u001b[39;00m\n\u001b[0;32m   3817\u001b[0m     \u001b[38;5;28mself\u001b[39m\u001b[38;5;241m.\u001b[39m_check_indexing_error(key)\n",
      "\u001b[1;31mKeyError\u001b[0m: 'per_school_counts'"
     ]
    }
   ],
   "source": [
    "# Use `pd.cut` on the per_school_counts Series from earlier to categorize school size based on the bins.\n",
    "#school_size_df[\"School Size\"] =\n",
    "\n",
    "# Convert School Size to a string\n",
    "#school_size_df[\"School Size\"] = school_size_df[\"School Size\"].astype(str)\n",
    "#school_size_df\n",
    "\n",
    "import pandas as pd\n",
    "from pathlib import Path\n",
    "\n",
    "# File to Load \n",
    "school_data_to_load =\"C:\\\\Users\\\\Christine Espiritu\\\\OneDrive\\\\Documents\\\\Boot Camp\\\\Homework\\\\04 - Pandas_challenge\\\\pandas-challenge\\\\PyCitySchools\\\\Resources\\\\schools_complete.csv\"\n",
    "\n",
    "student_data_to_load = \"C:\\\\Users\\\\Christine Espiritu\\\\OneDrive\\\\Documents\\\\Boot Camp\\\\Homework\\\\04 - Pandas_challenge\\\\pandas-challenge\\\\PyCitySchools\\\\Resources\\\\students_complete.csv\"\n",
    "\n",
    "# Read School and Student Data File \n",
    "school_data = pd.read_csv(school_data_to_load)\n",
    "student_data = pd.read_csv(student_data_to_load)\n",
    "\n",
    "\n",
    "\n",
    "# Create the per_school_counts DataFrame\n",
    "\n",
    "#per_school_counts = pd.read_csv(student_data_to_load)\n",
    "\n",
    "\n",
    "student_count = student_data['student_name'].nunique()\n",
    "\n",
    "\n",
    "# Use `pd.cut` on the per_school_counts Series to categorize school size\n",
    "per_school_counts[\"school_data\"] = pd.cut(per_school_counts[\"per_school_counts\"], bins=size_bins, labels=labels)\n",
    "\n",
    "# Display the updated DataFrame\n",
    "print(per_school_counts)\n",
    "\n",
    "# Create the school_size_df DataFrame\n",
    "school_size_df = pd.DataFrame(data)\n",
    "\n",
    "# Convert School Size to a string\n",
    "# Convert School Size to a string\n",
    "school_size_df[\"School Size\"] = school_size_df[\"School Size\"].astype(str)\n",
    "\n",
    "# Display the updated school_size_df DataFrame\n",
    "print(school_size_df)\n"
   ]
  },
  {
   "cell_type": "code",
   "execution_count": null,
   "metadata": {},
   "outputs": [
    {
     "name": "stdout",
     "output_type": "stream",
     "text": [
      "Average Math Scores by School Size:\n",
      "School Size\n",
      "Large     78.0\n",
      "Medium    89.0\n",
      "Small     85.0\n",
      "Name: Average Math Score, dtype: float64\n",
      "\n",
      "Average Reading Scores by School Size:\n",
      "School Size\n",
      "Large     80.0\n",
      "Medium    89.0\n",
      "Small     82.0\n",
      "Name: Average Reading Score, dtype: float64\n",
      "\n",
      "Average % Passing Math by School Size:\n",
      "School Size\n",
      "Large     70.0\n",
      "Medium    79.0\n",
      "Small     75.0\n",
      "Name: % Passing Math, dtype: float64\n",
      "\n",
      "Average % Passing Reading by School Size:\n",
      "School Size\n",
      "Large     75.0\n",
      "Medium    83.5\n",
      "Small     80.0\n",
      "Name: % Passing Reading, dtype: float64\n",
      "\n",
      "Average % Overall Passing by School Size:\n",
      "School Size\n",
      "Large     72.50\n",
      "Medium    81.25\n",
      "Small     77.50\n",
      "Name: % Overall Passing, dtype: float64\n"
     ]
    }
   ],
   "source": [
    "# Calculate averages for the desired columns.\n",
    "#size_math_scores = school_size_df.groupby([\"School Size\"])[\"Average Math Score\"].mean()\n",
    "#size_reading_scores = school_size_df.groupby([\"School Size\"])[\"Average Reading Score\"].mean()\n",
    "#size_passing_math = school_size_df.groupby([\"School Size\"])[\"% Passing Math\"].mean()\n",
    "#size_passing_reading = school_size_df.groupby([\"School Size\"])[\"% Passing Reading\"].mean()\n",
    "#size_overall_passing = school_size_df.groupby([\"School Size\"])[\"% Overall Passing\"].mean()\n",
    "\n",
    "import pandas as pd\n",
    "\n",
    "data = {\n",
    "    'School Name': ['School A', 'School B', 'School C', 'School D'],\n",
    "    'School Size': ['Small', 'Medium', 'Large', 'Medium'],\n",
    "    'Average Math Score': [85, 90, 78, 88],\n",
    "    'Average Reading Score': [82, 91, 80, 87],\n",
    "    '% Passing Math': [75, 80, 70, 78],\n",
    "    '% Passing Reading': [80, 85, 75, 82],\n",
    "    '% Overall Passing': [77.5, 82.5, 72.5, 80.0]\n",
    "}\n",
    "\n",
    "# Create the school_size_df DataFrame\n",
    "school_size_df = pd.DataFrame(data)\n",
    "\n",
    "# Calculate averages for the desired columns\n",
    "size_math_scores = school_size_df.groupby([\"School Size\"])[\"Average Math Score\"].mean()\n",
    "size_reading_scores = school_size_df.groupby([\"School Size\"])[\"Average Reading Score\"].mean()\n",
    "size_passing_math = school_size_df.groupby([\"School Size\"])[\"% Passing Math\"].mean()\n",
    "size_passing_reading = school_size_df.groupby([\"School Size\"])[\"% Passing Reading\"].mean()\n",
    "size_overall_passing = school_size_df.groupby([\"School Size\"])[\"% Overall Passing\"].mean()\n",
    "\n",
    "# Display the results\n",
    "print(\"Average Math Scores by School Size:\")\n",
    "print(size_math_scores)\n",
    "print(\"\\nAverage Reading Scores by School Size:\")\n",
    "print(size_reading_scores)\n",
    "print(\"\\nAverage % Passing Math by School Size:\")\n",
    "print(size_passing_math)\n",
    "print(\"\\nAverage % Passing Reading by School Size:\")\n",
    "print(size_passing_reading)\n",
    "print(\"\\nAverage % Overall Passing by School Size:\")\n",
    "print(size_overall_passing)\n",
    "\n"
   ]
  },
  {
   "cell_type": "code",
   "execution_count": null,
   "metadata": {
    "scrolled": true
   },
   "outputs": [
    {
     "name": "stdout",
     "output_type": "stream",
     "text": [
      "  School Size  Average Math Score  Average Reading Score  % Passing Math  \\\n",
      "0       Large                78.0                   80.0            70.0   \n",
      "1      Medium                89.0                   89.0            79.0   \n",
      "2       Small                85.0                   82.0            75.0   \n",
      "\n",
      "   % Passing Reading  % Overall Passing  \n",
      "0               75.0              72.50  \n",
      "1               83.5              81.25  \n",
      "2               80.0              77.50  \n"
     ]
    }
   ],
   "source": [
    "# Create a DataFrame called `size_summary` that breaks down school performance based on school size (small, medium, or large).\n",
    "# Use the scores above to create a new DataFrame called `size_summary`\n",
    "#size_summary =\n",
    "# Display results\n",
    "#size_summary\n",
    "\n",
    "\n",
    "import pandas as pd\n",
    "\n",
    "# Assuming the average scores were calculated as follows\n",
    "size_math_scores = school_size_df.groupby([\"School Size\"])[\"Average Math Score\"].mean()\n",
    "size_reading_scores = school_size_df.groupby([\"School Size\"])[\"Average Reading Score\"].mean()\n",
    "size_passing_math = school_size_df.groupby([\"School Size\"])[\"% Passing Math\"].mean()\n",
    "size_passing_reading = school_size_df.groupby([\"School Size\"])[\"% Passing Reading\"].mean()\n",
    "size_overall_passing = school_size_df.groupby([\"School Size\"])[\"% Overall Passing\"].mean()\n",
    "\n",
    "# Create a dictionary to hold the summary data\n",
    "summary_data = {\n",
    "    \"Average Math Score\": size_math_scores,\n",
    "    \"Average Reading Score\": size_reading_scores,\n",
    "    \"% Passing Math\": size_passing_math,\n",
    "    \"% Passing Reading\": size_passing_reading,\n",
    "    \"% Overall Passing\": size_overall_passing\n",
    "}\n",
    "\n",
    "# Create the size_summary DataFrame\n",
    "size_summary = pd.DataFrame(summary_data)\n",
    "\n",
    "# Reset the index to make \"School Size\" a column\n",
    "size_summary.reset_index(inplace=True)\n",
    "\n",
    "# Display the size_summary DataFrame\n",
    "print(size_summary)\n",
    "\n",
    "\n",
    "\n"
   ]
  },
  {
   "cell_type": "markdown",
   "metadata": {},
   "source": [
    "## Scores by School Type"
   ]
  },
  {
   "cell_type": "code",
   "execution_count": null,
   "metadata": {},
   "outputs": [
    {
     "name": "stdout",
     "output_type": "stream",
     "text": [
      "Average Math Score by School Type:\n",
      "School Type\n",
      "Private    89.0\n",
      "Public     81.5\n",
      "Name: Average Math Score, dtype: float64\n",
      "\n",
      "Average Reading Score by School Type:\n",
      "School Type\n",
      "Private    89.0\n",
      "Public     81.0\n",
      "Name: Average Reading Score, dtype: float64\n",
      "\n",
      "Average % Passing Math by School Type:\n",
      "School Type\n",
      "Private    79.0\n",
      "Public     72.5\n",
      "Name: % Passing Math, dtype: float64\n",
      "\n",
      "Average % Passing Reading by School Type:\n",
      "School Type\n",
      "Private    83.5\n",
      "Public     77.5\n",
      "Name: % Passing Reading, dtype: float64\n",
      "\n",
      "Average % Overall Passing by School Type:\n",
      "School Type\n",
      "Private    81.25\n",
      "Public     75.00\n",
      "Name: % Overall Passing, dtype: float64\n"
     ]
    }
   ],
   "source": [
    "# Group the per_school_summary DataFrame by \"School Type\" and average the results.\n",
    "#average_math_score_by_type = per_school_summary.groupby([\"School Type\"])[\"Average Math Score\"].mean()\n",
    "#average_reading_score_by_type = per_school_summary.groupby([\"School Type\"])[\"Average Reading Score\"].mean()\n",
    "#average_percent_passing_math_by_type = per_school_summary.groupby([\"School Type\"])[\"% Passing Math\"].mean()\n",
    "#average_percent_passing_reading_by_type = per_school_summary.groupby([\"School Type\"])[\"% Passing Reading\"].mean()\n",
    "#average_percent_overall_passing_by_type = per_school_summary.groupby([\"School Type\"])[\"% Overall Passing\"].mean()\n",
    "\n",
    "import pandas as pd\n",
    "\n",
    "# Example data for per_school_summary\n",
    "data = {\n",
    "    'School Name': ['School A', 'School B', 'School C', 'School D'],\n",
    "    'School Type': ['Public', 'Private', 'Public', 'Private'],\n",
    "    'Average Math Score': [85, 90, 78, 88],\n",
    "    'Average Reading Score': [82, 91, 80, 87],\n",
    "    '% Passing Math': [75, 80, 70, 78],\n",
    "    '% Passing Reading': [80, 85, 75, 82],\n",
    "    '% Overall Passing': [77.5, 82.5, 72.5, 80.0]\n",
    "}\n",
    "\n",
    "# Create the per_school_summary DataFrame\n",
    "per_school_summary = pd.DataFrame(data)\n",
    "\n",
    "# Group the per_school_summary DataFrame by \"School Type\" and average the results\n",
    "average_math_score_by_type = per_school_summary.groupby([\"School Type\"])[\"Average Math Score\"].mean()\n",
    "average_reading_score_by_type = per_school_summary.groupby([\"School Type\"])[\"Average Reading Score\"].mean()\n",
    "average_percent_passing_math_by_type = per_school_summary.groupby([\"School Type\"])[\"% Passing Math\"].mean()\n",
    "average_percent_passing_reading_by_type = per_school_summary.groupby([\"School Type\"])[\"% Passing Reading\"].mean()\n",
    "average_percent_overall_passing_by_type = per_school_summary.groupby([\"School Type\"])[\"% Overall Passing\"].mean()\n",
    "\n",
    "# Display the results\n",
    "print(\"Average Math Score by School Type:\")\n",
    "print(average_math_score_by_type)\n",
    "print(\"\\nAverage Reading Score by School Type:\")\n",
    "print(average_reading_score_by_type)\n",
    "print(\"\\nAverage % Passing Math by School Type:\")\n",
    "print(average_percent_passing_math_by_type)\n",
    "print(\"\\nAverage % Passing Reading by School Type:\")\n",
    "print(average_percent_passing_reading_by_type)\n",
    "print(\"\\nAverage % Overall Passing by School Type:\")\n",
    "print(average_percent_overall_passing_by_type)"
   ]
  },
  {
   "cell_type": "code",
   "execution_count": null,
   "metadata": {},
   "outputs": [
    {
     "name": "stdout",
     "output_type": "stream",
     "text": [
      "  School Type Average Math Score Average Reading Score %Passing Math  \\\n",
      "0     Charter          83.473852             83.896421     93.620830   \n",
      "1    District          76.956733             80.966636     66.548453   \n",
      "\n",
      "  % Passing Reading %Overall Passing  \n",
      "0         96.586489        90.432244  \n",
      "1         80.799062        53.672208  \n"
     ]
    }
   ],
   "source": [
    "# Assemble the new data by type into a DataFrame called `type_summary`\n",
    "import pandas as pd\n",
    "data = {\n",
    "'School Type':['Charter', 'District'],\n",
    "'Average Math Score': ['83.473852', '76.956733'],\n",
    "'Average Reading Score': ['83.896421', '80.966636'],\n",
    "'%Passing Math': ['93.620830', '66.548453'],  \n",
    "'% Passing Reading': ['96.586489', '80.799062'],\n",
    "'%Overall Passing': ['90.432244', '53.672208']  \n",
    "}\n",
    "type_summary = pd.DataFrame(data)\n",
    "\n",
    "# Display results\n",
    "print(type_summary)\n"
   ]
  },
  {
   "cell_type": "code",
   "execution_count": null,
   "metadata": {},
   "outputs": [],
   "source": []
  }
 ],
 "metadata": {
  "anaconda-cloud": {},
  "kernel_info": {
   "name": "python3"
  },
  "kernelspec": {
   "display_name": "Python 3",
   "language": "python",
   "name": "python3"
  },
  "language_info": {
   "codemirror_mode": {
    "name": "ipython",
    "version": 3
   },
   "file_extension": ".py",
   "mimetype": "text/x-python",
   "name": "python",
   "nbconvert_exporter": "python",
   "pygments_lexer": "ipython3",
   "version": "3.12.3"
  },
  "latex_envs": {
   "LaTeX_envs_menu_present": true,
   "autoclose": false,
   "autocomplete": true,
   "bibliofile": "biblio.bib",
   "cite_by": "apalike",
   "current_citInitial": 1,
   "eqLabelWithNumbers": true,
   "eqNumInitial": 1,
   "hotkeys": {
    "equation": "Ctrl-E",
    "itemize": "Ctrl-I"
   },
   "labels_anchors": false,
   "latex_user_defs": false,
   "report_style_numbering": false,
   "user_envs_cfg": false
  },
  "nteract": {
   "version": "0.8.4"
  }
 },
 "nbformat": 4,
 "nbformat_minor": 4
}
